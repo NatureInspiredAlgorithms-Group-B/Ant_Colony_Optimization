{
 "cells": [
  {
   "cell_type": "markdown",
   "metadata": {},
   "source": [
    "### Task Description:\n",
    "You might have heard of the 9€ ticket that should be available in Germany from June until August. With this ticket, you are able to take regional trains and busses within Germany for 9€ per month. You're taking the chance and plan a city trip through Germany. Since you don't want to spend too much time in the trains to have more time in the cities, you want to optimize your traveling route. \n",
    "\n",
    "Specifically, you want to visit the following cities: **Osnabrück, Münster, Köln, München, Hamburg, Berlin, Hannover**\n",
    "\n",
    "For task simplicity, we assume that:\n",
    "1. there are direct connections between all cities.\n",
    "2. the distance between the cities is a valid indicator for the required travel time.\n",
    "\n",
    "Of course, both assumptions might not be true in the real world."
   ]
  },
  {
   "cell_type": "code",
   "execution_count": null,
   "metadata": {},
   "outputs": [],
   "source": []
  }
 ],
 "metadata": {
  "language_info": {
   "name": "python"
  },
  "orig_nbformat": 4
 },
 "nbformat": 4,
 "nbformat_minor": 2
}
