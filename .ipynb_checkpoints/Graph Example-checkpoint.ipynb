{
 "cells": [
  {
   "cell_type": "markdown",
   "id": "bbc5d408",
   "metadata": {},
   "source": [
    "# How to Graph?\n",
    "\n",
    "To implement the solutions to the Ant Colony Optimization task you can use our graph class. It has some features that make it easy to handle. In the exercise you will get some code that loads and instatiates the graphs like this."
   ]
  },
  {
   "cell_type": "code",
   "execution_count": 1,
   "id": "39c6c4e8",
   "metadata": {},
   "outputs": [],
   "source": [
    "from graph import TSP\n",
    "import numpy as np\n",
    "\n",
    "graph = TSP(8, min_distance=10, max_distance=100)"
   ]
  },
  {
   "cell_type": "markdown",
   "id": "ba9f17a4",
   "metadata": {},
   "source": [
    "The ```graph```object is now a fully connected graph with 8 nodes and randomly assigned distances uniformly distributed over the interval $[10, 100]$.\n",
    "\n",
    "The ```len(graph)``` returns the number of nodes in the graph, and iterating over the graph yields the nodes."
   ]
  },
  {
   "cell_type": "code",
   "execution_count": 2,
   "id": "c0d6cb86",
   "metadata": {},
   "outputs": [
    {
     "data": {
      "text/plain": [
       "8"
      ]
     },
     "execution_count": 2,
     "metadata": {},
     "output_type": "execute_result"
    }
   ],
   "source": [
    "len(graph)"
   ]
  },
  {
   "cell_type": "code",
   "execution_count": 3,
   "id": "8bab1a3b",
   "metadata": {},
   "outputs": [
    {
     "name": "stdout",
     "output_type": "stream",
     "text": [
      "⟨0⟩\n",
      "⟨1⟩\n",
      "⟨2⟩\n",
      "⟨3⟩\n",
      "⟨4⟩\n",
      "⟨5⟩\n",
      "⟨6⟩\n",
      "⟨7⟩\n"
     ]
    }
   ],
   "source": [
    "for node in graph:\n",
    "    print(node)"
   ]
  },
  {
   "cell_type": "markdown",
   "id": "43815037",
   "metadata": {},
   "source": [
    "To access a ```Node``` or an ```Edge``` you can simply index it."
   ]
  },
  {
   "cell_type": "code",
   "execution_count": 4,
   "id": "4b2b8cf7",
   "metadata": {},
   "outputs": [
    {
     "name": "stdout",
     "output_type": "stream",
     "text": [
      "⟨3⟩\n"
     ]
    }
   ],
   "source": [
    "node = graph[3] # returns the third Node in the graph\n",
    "print(node)"
   ]
  },
  {
   "cell_type": "markdown",
   "id": "826fb6ba",
   "metadata": {},
   "source": [
    "Iterating over a node yields all neighbors of that node."
   ]
  },
  {
   "cell_type": "code",
   "execution_count": 5,
   "id": "5cab0d19",
   "metadata": {},
   "outputs": [
    {
     "name": "stdout",
     "output_type": "stream",
     "text": [
      "⟨0⟩\n",
      "⟨1⟩\n",
      "⟨2⟩\n",
      "⟨4⟩\n",
      "⟨5⟩\n",
      "⟨6⟩\n",
      "⟨7⟩\n"
     ]
    }
   ],
   "source": [
    "for n in node:\n",
    "    print(n)"
   ]
  },
  {
   "cell_type": "code",
   "execution_count": 6,
   "id": "9059389a",
   "metadata": {},
   "outputs": [
    {
     "name": "stdout",
     "output_type": "stream",
     "text": [
      "⟨2⟩⟝⟨7⟩\n"
     ]
    }
   ],
   "source": [
    "edge = graph[2, 7] # return the Edge from the second Node to the seventh\n",
    "print(edge)"
   ]
  },
  {
   "cell_type": "markdown",
   "id": "dfb44a09",
   "metadata": {},
   "source": [
    "You can also index nodes and edges by indexing with the nodes themselves."
   ]
  },
  {
   "cell_type": "code",
   "execution_count": 7,
   "id": "1e91ac1c",
   "metadata": {},
   "outputs": [
    {
     "data": {
      "text/plain": [
       "True"
      ]
     },
     "execution_count": 7,
     "metadata": {},
     "output_type": "execute_result"
    }
   ],
   "source": [
    "graph[node] == node"
   ]
  },
  {
   "cell_type": "code",
   "execution_count": 8,
   "id": "f684a832",
   "metadata": {},
   "outputs": [
    {
     "data": {
      "text/plain": [
       "True"
      ]
     },
     "execution_count": 8,
     "metadata": {},
     "output_type": "execute_result"
    }
   ],
   "source": [
    "node_1, node_2 = graph[1], graph[2]\n",
    "graph[node_1, node_2] == graph[1, 2]"
   ]
  },
  {
   "cell_type": "markdown",
   "id": "5e392a8c",
   "metadata": {},
   "source": [
    "To get all the nodes or edges simply call the graphs attribute"
   ]
  },
  {
   "cell_type": "code",
   "execution_count": 9,
   "id": "7a429c81",
   "metadata": {},
   "outputs": [
    {
     "name": "stdout",
     "output_type": "stream",
     "text": [
      "[⟨0⟩, ⟨1⟩, ⟨2⟩, ⟨3⟩, ⟨4⟩, ⟨5⟩, ⟨6⟩, ⟨7⟩]\n"
     ]
    }
   ],
   "source": [
    "print(graph.nodes)"
   ]
  },
  {
   "cell_type": "code",
   "execution_count": 10,
   "id": "07488bdc",
   "metadata": {},
   "outputs": [
    {
     "name": "stdout",
     "output_type": "stream",
     "text": [
      "{'value': array([[ 0.        , 10.15978752, 58.58850897, 89.15823586, 92.49298085,\n",
      "        61.12626782, 31.62397524, 28.34853816],\n",
      "       [53.64670348,  0.        , 29.800141  , 24.91680702, 92.77545795,\n",
      "        72.07962914, 54.2572848 , 57.46660357],\n",
      "       [62.36030693, 77.26579696,  0.        , 58.23056989, 89.7271429 ,\n",
      "        72.57764755, 96.7107602 , 92.68189222],\n",
      "       [75.00653609, 62.85474038, 57.39179928,  0.        , 73.97694522,\n",
      "        95.62094857, 33.63309148, 81.1989268 ],\n",
      "       [25.21292345, 42.52298216, 39.61895837, 73.92040482,  0.        ,\n",
      "        36.99601048, 98.65717246, 62.49629928],\n",
      "       [21.23617687, 47.39738539, 22.35433899, 79.84784826, 99.00415149,\n",
      "         0.        , 66.8340522 , 71.87633288],\n",
      "       [65.68834271, 93.31109575, 54.61222565, 81.73330207, 33.99919995,\n",
      "        16.60527986,  0.        , 99.56604561],\n",
      "       [13.1263448 , 99.63043617, 65.1833056 , 24.46568777, 72.23125622,\n",
      "        90.80573085, 34.00953074,  0.        ]])}\n"
     ]
    }
   ],
   "source": [
    "print(graph.edges)"
   ]
  },
  {
   "cell_type": "markdown",
   "id": "2e39e58a",
   "metadata": {},
   "source": [
    "If you want to access the distances between to nodes simply use the ```value``` attribute of the corresponding edge."
   ]
  },
  {
   "cell_type": "code",
   "execution_count": 11,
   "id": "d9e38f8d",
   "metadata": {},
   "outputs": [
    {
     "data": {
      "text/plain": [
       "39.618958370344714"
      ]
     },
     "execution_count": 11,
     "metadata": {},
     "output_type": "execute_result"
    }
   ],
   "source": [
    "graph[4, 2].value"
   ]
  },
  {
   "cell_type": "markdown",
   "id": "80e072be",
   "metadata": {},
   "source": [
    "If you want to set new attributes `attr` for nodes or edges simply do the following. Attribute names should not start with an underscore!"
   ]
  },
  {
   "cell_type": "code",
   "execution_count": 12,
   "id": "60e5ae58",
   "metadata": {},
   "outputs": [
    {
     "data": {
      "text/plain": [
       "Node⟨some_text:hello, some_number:3.141592653589793⟩"
      ]
     },
     "execution_count": 12,
     "metadata": {},
     "output_type": "execute_result"
    }
   ],
   "source": [
    "node.some_text = 'hello'\n",
    "node.some_number = 3.141592653589793238\n",
    "node"
   ]
  },
  {
   "cell_type": "code",
   "execution_count": 13,
   "id": "ed7b7e69",
   "metadata": {},
   "outputs": [
    {
     "data": {
      "text/plain": [
       "Edge⟨2⟩⟝⟨7⟩ ⟨value:92.68189222354329, pheromone:42.0⟩"
      ]
     },
     "execution_count": 13,
     "metadata": {},
     "output_type": "execute_result"
    }
   ],
   "source": [
    "edge.pheromone = 42.0\n",
    "edge"
   ]
  },
  {
   "cell_type": "markdown",
   "id": "501081fe",
   "metadata": {},
   "source": [
    "After an attribute has been set for some nodes or edges, the same attribute is available for all other edges. Their value will be the standart initilization value of the attributes data type."
   ]
  },
  {
   "cell_type": "code",
   "execution_count": 14,
   "id": "5cf89b17",
   "metadata": {},
   "outputs": [
    {
     "data": {
      "text/plain": [
       "Node⟨some_text:, some_number:0.0⟩"
      ]
     },
     "execution_count": 14,
     "metadata": {},
     "output_type": "execute_result"
    }
   ],
   "source": [
    "other_node = graph[0]\n",
    "other_node"
   ]
  },
  {
   "cell_type": "code",
   "execution_count": 15,
   "id": "e0d7bb24",
   "metadata": {},
   "outputs": [
    {
     "data": {
      "text/plain": [
       "Edge⟨0⟩⟝⟨1⟩ ⟨value:10.159787520762594, pheromone:0.0⟩"
      ]
     },
     "execution_count": 15,
     "metadata": {},
     "output_type": "execute_result"
    }
   ],
   "source": [
    "other_edge = graph[0, 1]\n",
    "other_edge"
   ]
  },
  {
   "cell_type": "markdown",
   "id": "eca496da",
   "metadata": {},
   "source": [
    "If you want to change the the values of all nodes or edges you have two options:\n",
    "1. Set the value of all items (nodes or edges) to one spefic value\n",
    "2. Set the value of all items (nodes or edges) to the values corresponding to a np.ndarray\n",
    "\n",
    "Let's look at some examples on those two cases."
   ]
  },
  {
   "cell_type": "code",
   "execution_count": 16,
   "id": "84503052",
   "metadata": {},
   "outputs": [
    {
     "data": {
      "text/plain": [
       "Node⟨some_text:hello, some_number:3.141592653589793, value:0, heuristic:1.0⟩"
      ]
     },
     "execution_count": 16,
     "metadata": {},
     "output_type": "execute_result"
    }
   ],
   "source": [
    "graph.nodes.heuristic = 1.0\n",
    "node"
   ]
  },
  {
   "cell_type": "code",
   "execution_count": 17,
   "id": "98267aac",
   "metadata": {},
   "outputs": [
    {
     "data": {
      "text/plain": [
       "Edge⟨2⟩⟝⟨7⟩ ⟨value:92.68189222354329, pheromone:42.0, ants:[]⟩"
      ]
     },
     "execution_count": 17,
     "metadata": {},
     "output_type": "execute_result"
    }
   ],
   "source": [
    "graph.edges.ants = []\n",
    "edge"
   ]
  },
  {
   "cell_type": "code",
   "execution_count": 18,
   "id": "792bbab6",
   "metadata": {},
   "outputs": [
    {
     "data": {
      "text/plain": [
       "Edge⟨2⟩⟝⟨7⟩ ⟨value:92.68189222354329, pheromone:42.0, ants:['lil ant']⟩"
      ]
     },
     "execution_count": 18,
     "metadata": {},
     "output_type": "execute_result"
    }
   ],
   "source": [
    "edge.ants.append('lil ant')\n",
    "edge"
   ]
  },
  {
   "cell_type": "code",
   "execution_count": 19,
   "id": "f9ad0a8e",
   "metadata": {},
   "outputs": [
    {
     "data": {
      "text/plain": [
       "Edge⟨0⟩⟝⟨1⟩ ⟨value:10.159787520762594, pheromone:0.0, ants:[]⟩"
      ]
     },
     "execution_count": 19,
     "metadata": {},
     "output_type": "execute_result"
    }
   ],
   "source": [
    "other_edge"
   ]
  },
  {
   "cell_type": "markdown",
   "id": "ef9e6c97",
   "metadata": {},
   "source": [
    "If we instead want to set different values to the items (nodes, edges) we can do the following instead."
   ]
  },
  {
   "cell_type": "code",
   "execution_count": 20,
   "id": "2da86576",
   "metadata": {},
   "outputs": [
    {
     "data": {
      "text/plain": [
       "Node⟨some_text:hello, some_number:3.141592653589793, value:0, heuristic:1.0, food:0.7228125735671528⟩"
      ]
     },
     "execution_count": 20,
     "metadata": {},
     "output_type": "execute_result"
    }
   ],
   "source": [
    "graph.nodes.food = np.random.rand(len(graph))\n",
    "node"
   ]
  },
  {
   "cell_type": "code",
   "execution_count": 21,
   "id": "1a8b97bd",
   "metadata": {},
   "outputs": [
    {
     "data": {
      "text/plain": [
       "Edge⟨2⟩⟝⟨7⟩ ⟨value:92.68189222354329, pheromone:42.0, ants:['lil ant'], heuristic:0.010674421451840499⟩"
      ]
     },
     "execution_count": 21,
     "metadata": {},
     "output_type": "execute_result"
    }
   ],
   "source": [
    "graph.edges.heuristic = 1/(graph.edges.value + 1)\n",
    "edge"
   ]
  }
 ],
 "metadata": {
  "kernelspec": {
   "display_name": "Python 3 (ipykernel)",
   "language": "python",
   "name": "python3"
  },
  "language_info": {
   "codemirror_mode": {
    "name": "ipython",
    "version": 3
   },
   "file_extension": ".py",
   "mimetype": "text/x-python",
   "name": "python",
   "nbconvert_exporter": "python",
   "pygments_lexer": "ipython3",
   "version": "3.10.4"
  }
 },
 "nbformat": 4,
 "nbformat_minor": 5
}
