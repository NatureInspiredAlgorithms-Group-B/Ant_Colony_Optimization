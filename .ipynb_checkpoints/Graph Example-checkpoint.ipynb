{
 "cells": [
  {
   "cell_type": "markdown",
   "id": "c8088db9",
   "metadata": {},
   "source": [
    "# How to Graph?\n",
    "\n",
    "To implement the solutions to the Ant Colony Optimization task you can use our graph class. It has some features that make it easy to handle. In the exercise you will get some code that loads and instatiates the graphs like this."
   ]
  },
  {
   "cell_type": "code",
   "execution_count": 27,
   "id": "e761e59d",
   "metadata": {},
   "outputs": [],
   "source": [
    "from graph import TSP\n",
    "import numpy as np\n",
    "\n",
    "graph = TSP(8, min_distance=10, max_distance=100)"
   ]
  },
  {
   "cell_type": "markdown",
   "id": "e48e414f",
   "metadata": {},
   "source": [
    "The ```graph```object is now a fully connected graph with 8 nodes and randomly assigned distances uniformly distributed over the interval $[10, 100]$.\n",
    "\n",
    "To access a ```Ǹode``` or an ```Edge``` you can simply index it."
   ]
  },
  {
   "cell_type": "code",
   "execution_count": 2,
   "id": "953aac23",
   "metadata": {},
   "outputs": [
    {
     "name": "stdout",
     "output_type": "stream",
     "text": [
      "⟨3⟩\n"
     ]
    }
   ],
   "source": [
    "node = graph[3] # returns the third Node in the graph\n",
    "print(node)"
   ]
  },
  {
   "cell_type": "code",
   "execution_count": 3,
   "id": "af995ae9",
   "metadata": {},
   "outputs": [
    {
     "name": "stdout",
     "output_type": "stream",
     "text": [
      "⟨2⟩⟝⟨7⟩\n"
     ]
    }
   ],
   "source": [
    "edge = graph[2, 7] # return the Edge from the second Node to the seventh\n",
    "print(edge)"
   ]
  },
  {
   "cell_type": "markdown",
   "id": "a413b4f0",
   "metadata": {},
   "source": [
    "To get all the nodes or edges simply call the graphs attribute"
   ]
  },
  {
   "cell_type": "code",
   "execution_count": 4,
   "id": "7b739829",
   "metadata": {},
   "outputs": [
    {
     "name": "stdout",
     "output_type": "stream",
     "text": [
      "[⟨0⟩, ⟨1⟩, ⟨2⟩, ⟨3⟩, ⟨4⟩, ⟨5⟩, ⟨6⟩, ⟨7⟩]\n"
     ]
    }
   ],
   "source": [
    "print(graph.nodes)"
   ]
  },
  {
   "cell_type": "code",
   "execution_count": 5,
   "id": "0ac52203",
   "metadata": {},
   "outputs": [
    {
     "name": "stdout",
     "output_type": "stream",
     "text": [
      "{'value': array([[ 0.        , 87.16715848, 83.99412515, 14.87225835, 33.63775817,\n",
      "        36.74992461, 71.39395188, 26.24430398],\n",
      "       [43.59716513,  0.        , 81.80335273, 71.15168221, 39.38757976,\n",
      "        71.80983094, 26.79097682, 29.75192962],\n",
      "       [70.56618085, 38.0481526 ,  0.        , 24.28915823, 73.04194225,\n",
      "        13.23709928, 43.89965637, 70.00351059],\n",
      "       [32.63097228, 12.09772382, 36.04700794,  0.        , 55.17182484,\n",
      "        30.16758317, 82.64430103, 15.1454255 ],\n",
      "       [22.92990798, 32.5717769 , 80.22317617, 24.47198516,  0.        ,\n",
      "        70.97931323, 64.84174098, 14.47949152],\n",
      "       [10.90167032, 41.15744886, 75.11138165, 29.92303459, 51.01762807,\n",
      "         0.        , 20.07630482, 39.48416841],\n",
      "       [78.71130784, 34.45835637, 71.31471226, 41.7397168 , 99.61219343,\n",
      "        99.57300224,  0.        , 44.80528671],\n",
      "       [33.8448518 , 88.03783015, 31.93107359, 47.39036073, 89.2739726 ,\n",
      "        55.70609528, 95.32347479,  0.        ]])}\n"
     ]
    }
   ],
   "source": [
    "print(graph.edges)"
   ]
  },
  {
   "cell_type": "markdown",
   "id": "c1b75fce",
   "metadata": {},
   "source": [
    "If you want to access the distances between to nodes simply use the ```value``` attribute of the corresponding edge."
   ]
  },
  {
   "cell_type": "code",
   "execution_count": 6,
   "id": "aefb249c",
   "metadata": {},
   "outputs": [
    {
     "data": {
      "text/plain": [
       "80.22317616615265"
      ]
     },
     "execution_count": 6,
     "metadata": {},
     "output_type": "execute_result"
    }
   ],
   "source": [
    "graph[4, 2].value"
   ]
  },
  {
   "cell_type": "markdown",
   "id": "b335a331",
   "metadata": {},
   "source": [
    "If you want to set new attributes `attr` for nodes or edges simply do the following. Attribute names should not start with an underscore!"
   ]
  },
  {
   "cell_type": "code",
   "execution_count": 12,
   "id": "bfbcce64",
   "metadata": {},
   "outputs": [
    {
     "data": {
      "text/plain": [
       "Node ⟨some_text:hello, some_number:3.141592653589793⟩"
      ]
     },
     "execution_count": 12,
     "metadata": {},
     "output_type": "execute_result"
    }
   ],
   "source": [
    "node.some_text = 'hello'\n",
    "node.some_number = 3.141592653589793238\n",
    "node"
   ]
  },
  {
   "cell_type": "code",
   "execution_count": 13,
   "id": "9acfb52a",
   "metadata": {},
   "outputs": [
    {
     "data": {
      "text/plain": [
       "Edge ⟨2⟩⟝⟨7⟩ ⟨value:70.003510590523, pheromone:42.0⟩"
      ]
     },
     "execution_count": 13,
     "metadata": {},
     "output_type": "execute_result"
    }
   ],
   "source": [
    "edge.pheromone = 42.0\n",
    "edge"
   ]
  },
  {
   "cell_type": "markdown",
   "id": "16879090",
   "metadata": {},
   "source": [
    "After an attribute has been set for some nodes or edges, the same attribute is available for all other edges. Their value will be the standart initilization value of the attributes data type."
   ]
  },
  {
   "cell_type": "code",
   "execution_count": 14,
   "id": "c8ee9ec0",
   "metadata": {},
   "outputs": [
    {
     "data": {
      "text/plain": [
       "Node ⟨some_text:, some_number:0.0⟩"
      ]
     },
     "execution_count": 14,
     "metadata": {},
     "output_type": "execute_result"
    }
   ],
   "source": [
    "other_node = graph[0]\n",
    "other_node"
   ]
  },
  {
   "cell_type": "code",
   "execution_count": 15,
   "id": "0bd243c7",
   "metadata": {},
   "outputs": [
    {
     "data": {
      "text/plain": [
       "Edge ⟨0⟩⟝⟨1⟩ ⟨value:87.16715847746396, pheromone:0.0⟩"
      ]
     },
     "execution_count": 15,
     "metadata": {},
     "output_type": "execute_result"
    }
   ],
   "source": [
    "other_edge = graph[0, 1]\n",
    "other_edge"
   ]
  },
  {
   "cell_type": "markdown",
   "id": "a8f26508",
   "metadata": {},
   "source": [
    "If you want to change the the values of all nodes or edges you have two options:\n",
    "1. Set the value of all items (nodes or edges) to one spefic value\n",
    "2. Set the value of all items (nodes or edges) to the values corresponding to a np.ndarray\n",
    "\n",
    "Let's look at some examples on those two cases."
   ]
  },
  {
   "cell_type": "code",
   "execution_count": 20,
   "id": "e52eb69c",
   "metadata": {},
   "outputs": [
    {
     "data": {
      "text/plain": [
       "Node ⟨some_text:hello, some_number:3.141592653589793, value:0, heuristic:1.0⟩"
      ]
     },
     "execution_count": 20,
     "metadata": {},
     "output_type": "execute_result"
    }
   ],
   "source": [
    "graph.nodes.heuristic = 1.0\n",
    "node"
   ]
  },
  {
   "cell_type": "code",
   "execution_count": 22,
   "id": "3f1d30d2",
   "metadata": {},
   "outputs": [
    {
     "data": {
      "text/plain": [
       "Edge ⟨2⟩⟝⟨7⟩ ⟨value:70.003510590523, pheromone:42.0, ants:[]⟩"
      ]
     },
     "execution_count": 22,
     "metadata": {},
     "output_type": "execute_result"
    }
   ],
   "source": [
    "graph.edges.ants = []\n",
    "edge"
   ]
  },
  {
   "cell_type": "code",
   "execution_count": 23,
   "id": "36a0be7c",
   "metadata": {},
   "outputs": [
    {
     "data": {
      "text/plain": [
       "Edge ⟨2⟩⟝⟨7⟩ ⟨value:70.003510590523, pheromone:42.0, ants:['lil ant']⟩"
      ]
     },
     "execution_count": 23,
     "metadata": {},
     "output_type": "execute_result"
    }
   ],
   "source": [
    "edge.ants.append('lil ant')\n",
    "edge"
   ]
  },
  {
   "cell_type": "code",
   "execution_count": 25,
   "id": "be2d9fb8",
   "metadata": {},
   "outputs": [
    {
     "data": {
      "text/plain": [
       "Edge ⟨0⟩⟝⟨1⟩ ⟨value:87.16715847746396, pheromone:0.0, ants:[]⟩"
      ]
     },
     "execution_count": 25,
     "metadata": {},
     "output_type": "execute_result"
    }
   ],
   "source": [
    "other_edge"
   ]
  },
  {
   "cell_type": "markdown",
   "id": "3a2248b0",
   "metadata": {},
   "source": [
    "If we instead want to set different values to the items (nodes, edges) we can do the following instead."
   ]
  },
  {
   "cell_type": "code",
   "execution_count": 34,
   "id": "bbd6dc0e",
   "metadata": {},
   "outputs": [
    {
     "data": {
      "text/plain": [
       "Node ⟨some_text:, some_number:0.0, value:0, heuristic:1.0, food:0⟩"
      ]
     },
     "execution_count": 34,
     "metadata": {},
     "output_type": "execute_result"
    }
   ],
   "source": [
    "graph.nodes.food = np.random(len(graph)\n",
    "other_node"
   ]
  }
 ],
 "metadata": {
  "kernelspec": {
   "display_name": "Python 3 (ipykernel)",
   "language": "python",
   "name": "python3"
  },
  "language_info": {
   "codemirror_mode": {
    "name": "ipython",
    "version": 3
   },
   "file_extension": ".py",
   "mimetype": "text/x-python",
   "name": "python",
   "nbconvert_exporter": "python",
   "pygments_lexer": "ipython3",
   "version": "3.10.4"
  }
 },
 "nbformat": 4,
 "nbformat_minor": 5
}
