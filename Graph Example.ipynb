{
 "cells": [
  {
   "cell_type": "markdown",
   "id": "bbc5d408",
   "metadata": {},
   "source": [
    "# How to Graph?\n",
    "\n",
    "To implement the solutions to the Ant Colony Optimization task you can use our graph class. It has some features that make it easy to handle. In the exercise you will get some code that loads and instantiates the graphs like this."
   ]
  },
  {
   "cell_type": "code",
   "execution_count": 1,
   "id": "39c6c4e8",
   "metadata": {},
   "outputs": [],
   "source": [
    "from graph import TSP\n",
    "import numpy as np\n",
    "\n",
    "graph = TSP(8, min_distance=10, max_distance=100)"
   ]
  },
  {
   "cell_type": "markdown",
   "id": "ba9f17a4",
   "metadata": {},
   "source": [
    "The ```graph```object is now a fully connected graph with 8 nodes and randomly assigned distances uniformly distributed over the interval $[10, 100]$.\n",
    "\n",
    "The ```len(graph)``` returns the number of nodes in the graph, and iterating over the graph yields the nodes."
   ]
  },
  {
   "cell_type": "code",
   "execution_count": 2,
   "id": "c0d6cb86",
   "metadata": {},
   "outputs": [
    {
     "data": {
      "text/plain": [
       "8"
      ]
     },
     "execution_count": 2,
     "metadata": {},
     "output_type": "execute_result"
    }
   ],
   "source": [
    "len(graph)"
   ]
  },
  {
   "cell_type": "markdown",
   "id": "d10500f4",
   "metadata": {},
   "source": [
    "Calling the ```int``` of a ```Node``` returns its graph index."
   ]
  },
  {
   "cell_type": "code",
   "execution_count": 3,
   "id": "8bab1a3b",
   "metadata": {},
   "outputs": [
    {
     "name": "stdout",
     "output_type": "stream",
     "text": [
      "⟨0⟩ 0\n",
      "⟨1⟩ 1\n",
      "⟨2⟩ 2\n",
      "⟨3⟩ 3\n",
      "⟨4⟩ 4\n",
      "⟨5⟩ 5\n",
      "⟨6⟩ 6\n",
      "⟨7⟩ 7\n"
     ]
    }
   ],
   "source": [
    "for node in graph:\n",
    "    print(node, int(node))"
   ]
  },
  {
   "cell_type": "markdown",
   "id": "43815037",
   "metadata": {},
   "source": [
    "To access a ```Node``` or an ```Edge``` you can simply index it."
   ]
  },
  {
   "cell_type": "code",
   "execution_count": 4,
   "id": "4b2b8cf7",
   "metadata": {},
   "outputs": [
    {
     "name": "stdout",
     "output_type": "stream",
     "text": [
      "⟨3⟩\n"
     ]
    }
   ],
   "source": [
    "node = graph[3] # returns the third Node in the graph\n",
    "print(node)"
   ]
  },
  {
   "cell_type": "markdown",
   "id": "826fb6ba",
   "metadata": {},
   "source": [
    "Iterating over a node yields all neighbors of that node."
   ]
  },
  {
   "cell_type": "code",
   "execution_count": 5,
   "id": "5cab0d19",
   "metadata": {},
   "outputs": [
    {
     "name": "stdout",
     "output_type": "stream",
     "text": [
      "⟨0⟩\n",
      "⟨1⟩\n",
      "⟨2⟩\n",
      "⟨4⟩\n",
      "⟨5⟩\n",
      "⟨6⟩\n",
      "⟨7⟩\n"
     ]
    }
   ],
   "source": [
    "for n in node:\n",
    "    print(n)"
   ]
  },
  {
   "cell_type": "code",
   "execution_count": 6,
   "id": "9059389a",
   "metadata": {},
   "outputs": [
    {
     "name": "stdout",
     "output_type": "stream",
     "text": [
      "⟨2⟩⟝⟨7⟩\n"
     ]
    }
   ],
   "source": [
    "edge = graph[2, 7] # return the Edge from the second Node to the seventh\n",
    "print(edge)"
   ]
  },
  {
   "cell_type": "markdown",
   "id": "dfb44a09",
   "metadata": {},
   "source": [
    "You can also index nodes and edges by indexing with the nodes themselves."
   ]
  },
  {
   "cell_type": "code",
   "execution_count": 7,
   "id": "1e91ac1c",
   "metadata": {},
   "outputs": [
    {
     "data": {
      "text/plain": [
       "True"
      ]
     },
     "execution_count": 7,
     "metadata": {},
     "output_type": "execute_result"
    }
   ],
   "source": [
    "graph[node] == node"
   ]
  },
  {
   "cell_type": "code",
   "execution_count": 8,
   "id": "f684a832",
   "metadata": {},
   "outputs": [
    {
     "data": {
      "text/plain": [
       "True"
      ]
     },
     "execution_count": 8,
     "metadata": {},
     "output_type": "execute_result"
    }
   ],
   "source": [
    "node_1, node_2 = graph[1], graph[2]\n",
    "graph[node_1, node_2] == graph[1, 2]"
   ]
  },
  {
   "cell_type": "markdown",
   "id": "d805f533",
   "metadata": {},
   "source": [
    "If you want to access a nonexistant edge the graph returns ``Ǹone```"
   ]
  },
  {
   "cell_type": "code",
   "execution_count": 9,
   "id": "a4196f07",
   "metadata": {},
   "outputs": [
    {
     "name": "stdout",
     "output_type": "stream",
     "text": [
      "None\n"
     ]
    }
   ],
   "source": [
    "print(graph[0, 0]) # The TSP graph is nonreflexive (no nodes connect back to themselves)"
   ]
  },
  {
   "cell_type": "markdown",
   "id": "5e392a8c",
   "metadata": {},
   "source": [
    "To get all the nodes or edges simply call the graphs attribute"
   ]
  },
  {
   "cell_type": "code",
   "execution_count": 10,
   "id": "7a429c81",
   "metadata": {},
   "outputs": [
    {
     "name": "stdout",
     "output_type": "stream",
     "text": [
      "Nodes[⟨0⟩, ⟨1⟩, ⟨2⟩, ⟨3⟩, ⟨4⟩, ⟨5⟩, ⟨6⟩, ⟨7⟩]\n"
     ]
    }
   ],
   "source": [
    "print(graph.nodes)\n",
    "#print(type(graph.nodes))"
   ]
  },
  {
   "cell_type": "code",
   "execution_count": 11,
   "id": "07488bdc",
   "metadata": {},
   "outputs": [
    {
     "name": "stdout",
     "output_type": "stream",
     "text": [
      "Edges[⟨0⟩⟝⟨1⟩, ⟨0⟩⟝⟨2⟩, ⟨0⟩⟝⟨3⟩, ⟨0⟩⟝⟨4⟩, ⟨0⟩⟝⟨5⟩, ⟨0⟩⟝⟨6⟩, ⟨0⟩⟝⟨7⟩, ⟨1⟩⟝⟨0⟩, ⟨1⟩⟝⟨2⟩, ⟨1⟩⟝⟨3⟩, ⟨1⟩⟝⟨4⟩, ⟨1⟩⟝⟨5⟩, ⟨1⟩⟝⟨6⟩, ⟨1⟩⟝⟨7⟩, ⟨2⟩⟝⟨0⟩, ⟨2⟩⟝⟨1⟩, ⟨2⟩⟝⟨3⟩, ⟨2⟩⟝⟨4⟩, ⟨2⟩⟝⟨5⟩, ⟨2⟩⟝⟨6⟩, ⟨2⟩⟝⟨7⟩, ⟨3⟩⟝⟨0⟩, ⟨3⟩⟝⟨1⟩, ⟨3⟩⟝⟨2⟩, ⟨3⟩⟝⟨4⟩, ⟨3⟩⟝⟨5⟩, ⟨3⟩⟝⟨6⟩, ⟨3⟩⟝⟨7⟩, ⟨4⟩⟝⟨0⟩, ⟨4⟩⟝⟨1⟩, ⟨4⟩⟝⟨2⟩, ⟨4⟩⟝⟨3⟩, ⟨4⟩⟝⟨5⟩, ⟨4⟩⟝⟨6⟩, ⟨4⟩⟝⟨7⟩, ⟨5⟩⟝⟨0⟩, ⟨5⟩⟝⟨1⟩, ⟨5⟩⟝⟨2⟩, ⟨5⟩⟝⟨3⟩, ⟨5⟩⟝⟨4⟩, ⟨5⟩⟝⟨6⟩, ⟨5⟩⟝⟨7⟩, ⟨6⟩⟝⟨0⟩, ⟨6⟩⟝⟨1⟩, ⟨6⟩⟝⟨2⟩, ⟨6⟩⟝⟨3⟩, ⟨6⟩⟝⟨4⟩, ⟨6⟩⟝⟨5⟩, ⟨6⟩⟝⟨7⟩, ⟨7⟩⟝⟨0⟩, ⟨7⟩⟝⟨1⟩, ⟨7⟩⟝⟨2⟩, ⟨7⟩⟝⟨3⟩, ⟨7⟩⟝⟨4⟩, ⟨7⟩⟝⟨5⟩, ⟨7⟩⟝⟨6⟩]\n"
     ]
    }
   ],
   "source": [
    "print(graph.edges)"
   ]
  },
  {
   "cell_type": "markdown",
   "id": "3a4c3600",
   "metadata": {},
   "source": [
    "To access an attribute of all nodes or all edges simply call:"
   ]
  },
  {
   "cell_type": "code",
   "execution_count": 12,
   "id": "ba2b3656",
   "metadata": {},
   "outputs": [
    {
     "data": {
      "text/plain": [
       "array([[ 0.        , 97.06063659, 82.06907985, 21.87104081, 41.91609735,\n",
       "        47.26833986, 90.58963841, 45.37499793],\n",
       "       [84.1779539 ,  0.        , 14.63162221, 59.75165752, 33.67917704,\n",
       "        65.76745762, 46.24336496, 11.41846652],\n",
       "       [97.7547658 , 29.50179195,  0.        , 86.5800192 , 41.34299734,\n",
       "        76.71310826, 38.03565903, 80.40399602],\n",
       "       [86.05462936, 82.69551799, 29.40391582,  0.        , 16.66141796,\n",
       "        98.93293754, 39.53230527, 10.29798086],\n",
       "       [56.66174074, 59.32801693, 31.97806973, 18.2897721 ,  0.        ,\n",
       "        13.14557746, 72.73390726, 15.77412249],\n",
       "       [66.22532663, 22.106044  , 52.03601498, 99.42451874, 98.92485675,\n",
       "         0.        , 48.99845278, 50.62938387],\n",
       "       [84.28318814, 16.83534542, 12.97400593, 13.41380238, 47.0622833 ,\n",
       "        85.29779965,  0.        , 90.88294683],\n",
       "       [71.33534166, 16.9247414 , 43.92829702, 41.45049907, 94.74417038,\n",
       "        57.09765667, 23.02779527,  0.        ]])"
      ]
     },
     "execution_count": 12,
     "metadata": {},
     "output_type": "execute_result"
    }
   ],
   "source": [
    "graph.edges.value"
   ]
  },
  {
   "cell_type": "markdown",
   "id": "2e39e58a",
   "metadata": {},
   "source": [
    "If you want to access the distances between to nodes simply use the ```value``` attribute of the corresponding edge."
   ]
  },
  {
   "cell_type": "code",
   "execution_count": 13,
   "id": "d9e38f8d",
   "metadata": {},
   "outputs": [
    {
     "data": {
      "text/plain": [
       "31.97806973262852"
      ]
     },
     "execution_count": 13,
     "metadata": {},
     "output_type": "execute_result"
    }
   ],
   "source": [
    "graph[4, 2].value"
   ]
  },
  {
   "cell_type": "markdown",
   "id": "80e072be",
   "metadata": {},
   "source": [
    "If you want to set new attributes `attr` for nodes or edges simply do the following. Attribute names should not start with an underscore!"
   ]
  },
  {
   "cell_type": "code",
   "execution_count": 14,
   "id": "60e5ae58",
   "metadata": {},
   "outputs": [
    {
     "data": {
      "text/plain": [
       "Node⟨some_text:hello, some_number:3.141592653589793⟩"
      ]
     },
     "execution_count": 14,
     "metadata": {},
     "output_type": "execute_result"
    }
   ],
   "source": [
    "node.some_text = 'hello'\n",
    "node.some_number = 3.141592653589793238\n",
    "node"
   ]
  },
  {
   "cell_type": "code",
   "execution_count": 15,
   "id": "ed7b7e69",
   "metadata": {},
   "outputs": [
    {
     "data": {
      "text/plain": [
       "Edge⟨2⟩⟝⟨7⟩ ⟨value:80.4039960168318, pheromone:42.0⟩"
      ]
     },
     "execution_count": 15,
     "metadata": {},
     "output_type": "execute_result"
    }
   ],
   "source": [
    "edge.pheromone = 42.0\n",
    "edge"
   ]
  },
  {
   "cell_type": "markdown",
   "id": "501081fe",
   "metadata": {},
   "source": [
    "After an attribute has been set for some nodes or edges, the same attribute is available for all other edges. Their value will be the standart initilization value of the attributes data type."
   ]
  },
  {
   "cell_type": "code",
   "execution_count": 16,
   "id": "5cf89b17",
   "metadata": {},
   "outputs": [
    {
     "data": {
      "text/plain": [
       "Node⟨some_text:, some_number:0.0⟩"
      ]
     },
     "execution_count": 16,
     "metadata": {},
     "output_type": "execute_result"
    }
   ],
   "source": [
    "other_node = graph[0]\n",
    "other_node"
   ]
  },
  {
   "cell_type": "code",
   "execution_count": 17,
   "id": "e0d7bb24",
   "metadata": {},
   "outputs": [
    {
     "data": {
      "text/plain": [
       "Edge⟨0⟩⟝⟨1⟩ ⟨value:97.06063659397769, pheromone:0.0⟩"
      ]
     },
     "execution_count": 17,
     "metadata": {},
     "output_type": "execute_result"
    }
   ],
   "source": [
    "other_edge = graph[0, 1]\n",
    "other_edge"
   ]
  },
  {
   "cell_type": "markdown",
   "id": "eca496da",
   "metadata": {},
   "source": [
    "If you want to change the the values of all nodes or edges you have two options:\n",
    "1. Set the value of all items (nodes or edges) to one spefic value\n",
    "2. Set the value of all items (nodes or edges) to the values corresponding to a np.ndarray\n",
    "\n",
    "Let's look at some examples on those two cases."
   ]
  },
  {
   "cell_type": "code",
   "execution_count": 18,
   "id": "84503052",
   "metadata": {},
   "outputs": [
    {
     "data": {
      "text/plain": [
       "Node⟨some_text:hello, some_number:3.141592653589793, value:0, heuristic:1.0⟩"
      ]
     },
     "execution_count": 18,
     "metadata": {},
     "output_type": "execute_result"
    }
   ],
   "source": [
    "graph.nodes.heuristic = 1.0\n",
    "node"
   ]
  },
  {
   "cell_type": "code",
   "execution_count": 19,
   "id": "98267aac",
   "metadata": {},
   "outputs": [
    {
     "data": {
      "text/plain": [
       "Edge⟨2⟩⟝⟨7⟩ ⟨value:80.4039960168318, pheromone:42.0, ants:[]⟩"
      ]
     },
     "execution_count": 19,
     "metadata": {},
     "output_type": "execute_result"
    }
   ],
   "source": [
    "graph.edges.ants = []\n",
    "edge"
   ]
  },
  {
   "cell_type": "code",
   "execution_count": 20,
   "id": "792bbab6",
   "metadata": {},
   "outputs": [
    {
     "data": {
      "text/plain": [
       "Edge⟨2⟩⟝⟨7⟩ ⟨value:80.4039960168318, pheromone:42.0, ants:['lil ant']⟩"
      ]
     },
     "execution_count": 20,
     "metadata": {},
     "output_type": "execute_result"
    }
   ],
   "source": [
    "edge.ants.append('lil ant')\n",
    "edge"
   ]
  },
  {
   "cell_type": "code",
   "execution_count": 21,
   "id": "f9ad0a8e",
   "metadata": {},
   "outputs": [
    {
     "data": {
      "text/plain": [
       "Edge⟨0⟩⟝⟨1⟩ ⟨value:97.06063659397769, pheromone:0.0, ants:[]⟩"
      ]
     },
     "execution_count": 21,
     "metadata": {},
     "output_type": "execute_result"
    }
   ],
   "source": [
    "other_edge"
   ]
  },
  {
   "cell_type": "markdown",
   "id": "ef9e6c97",
   "metadata": {},
   "source": [
    "If we instead want to set different values to the items (nodes, edges) we can do the following instead."
   ]
  },
  {
   "cell_type": "code",
   "execution_count": 22,
   "id": "2da86576",
   "metadata": {},
   "outputs": [
    {
     "data": {
      "text/plain": [
       "Node⟨some_text:hello, some_number:3.141592653589793, value:0, heuristic:1.0, food:0.0490450836251356⟩"
      ]
     },
     "execution_count": 22,
     "metadata": {},
     "output_type": "execute_result"
    }
   ],
   "source": [
    "graph.nodes.food = np.random.rand(len(graph))\n",
    "node"
   ]
  },
  {
   "cell_type": "code",
   "execution_count": 23,
   "id": "1a8b97bd",
   "metadata": {},
   "outputs": [
    {
     "data": {
      "text/plain": [
       "Edge⟨2⟩⟝⟨7⟩ ⟨value:80.4039960168318, pheromone:42.0, ants:['lil ant'], heuristic:0.0122844092296554⟩"
      ]
     },
     "execution_count": 23,
     "metadata": {},
     "output_type": "execute_result"
    }
   ],
   "source": [
    "graph.edges.heuristic = 1/(graph.edges.value + 1)\n",
    "edge"
   ]
  }
 ],
 "metadata": {
  "interpreter": {
   "hash": "2dc1d4bf8a7f47a46026872f46a8e8647be283309b190db9cb69ed4c9493c2c2"
  },
  "kernelspec": {
   "display_name": "Python 3 (ipykernel)",
   "language": "python",
   "name": "python3"
  },
  "language_info": {
   "codemirror_mode": {
    "name": "ipython",
    "version": 3
   },
   "file_extension": ".py",
   "mimetype": "text/x-python",
   "name": "python",
   "nbconvert_exporter": "python",
   "pygments_lexer": "ipython3",
   "version": "3.10.4"
  }
 },
 "nbformat": 4,
 "nbformat_minor": 5
}
